{
 "cells": [
  {
   "cell_type": "code",
   "execution_count": null,
   "id": "968470e4",
   "metadata": {},
   "outputs": [],
   "source": [
    "a3 = ['Оловянный ', 'Железный ', 'Перламутровый серый ', 'Каменый серый ', 'Коамару']\n",
    "a4 = ['Оловянный ', 'Железный ', 'Перламутровый серый ', 'Кирпичный', 'Стальной ']\n",
    "a5 = ['Железный ', 'Перламутровый серый ', 'Оловянный ', 'Черный ', 'Каменый серый ']\n",
    "a6 = ['Серо-Бежевый ', 'Коамару', 'Мраморный ', 'Каменый серый ', 'Железный ']"
   ]
  }
 ],
 "metadata": {
  "kernelspec": {
   "display_name": "Python 3",
   "language": "python",
   "name": "python3"
  },
  "language_info": {
   "codemirror_mode": {
    "name": "ipython",
    "version": 3
   },
   "file_extension": ".py",
   "mimetype": "text/x-python",
   "name": "python",
   "nbconvert_exporter": "python",
   "pygments_lexer": "ipython3",
   "version": "3.8.8"
  }
 },
 "nbformat": 4,
 "nbformat_minor": 5
}
